{
 "cells": [
  {
   "cell_type": "markdown",
   "id": "7266022d411c887f",
   "metadata": {},
   "source": [
    "# Ejercicio 01: Recuperación de Información Basado en el Modelo de Matriz Término-Documento\n",
    "\n",
    "En este ejercicio, trabajaremos con un corpus de documentos en formato JSON para implementar un sistema de Recuperación de Información basado en el modelo de espacio vectorial. Seguirás los siguientes pasos:"
   ]
  },
  {
   "cell_type": "markdown",
   "id": "b20440e0de103cf3",
   "metadata": {},
   "source": [
    "## Paso 1: Determinar un vocabulario\n",
    "El primer paso es cargar el corpus en formato JSON, extraer los textos de los documentos y crear el vocabulario."
   ]
  },
  {
   "cell_type": "code",
   "execution_count": 2,
   "id": "initial_id",
   "metadata": {
    "ExecuteTime": {
     "end_time": "2024-10-22T12:22:34.639750Z",
     "start_time": "2024-10-22T12:22:34.631518Z"
    },
    "tags": []
   },
   "outputs": [],
   "source": [
    "import json # Importa el módulo JSON para trabajar con archivos en formato JSON\n",
    "\n",
    "# Inicializa una lista vacía para almacenar los datos del corpus\n",
    "datos = []\n",
    "with open(file='../data/01tdmatrix_corpus.json', mode='r', encoding='utf-8') as file:\n",
    "        # Carga el contenido del archivo JSON y lo guarda en la lista 'datos'\n",
    "    datos = json.load(file)"
   ]
  },
  {
   "cell_type": "code",
   "execution_count": 4,
   "id": "1cad34a871eac562",
   "metadata": {
    "ExecuteTime": {
     "end_time": "2024-10-22T12:28:42.503285Z",
     "start_time": "2024-10-22T12:28:42.487436Z"
    },
    "tags": []
   },
   "outputs": [
    {
     "name": "stdout",
     "output_type": "stream",
     "text": [
      "la inteligencia artificial continúa avanzando rápidamente, transformando sectores como la salud y las finanzas. las empresas están adoptando algoritmos de aprendizaje automático para mejorar la eficiencia. sin embargo, el desafío principal sigue siendo garantizar que las decisiones basadas en datos sean justas y no perpetúen sesgos. la ética es fundamental en este contexto.\n"
     ]
    }
   ],
   "source": [
    "print(datos[0]['text'].lower())  # Imprime el texto del primer documento en minúsculas para normalizar el contenido."
   ]
  },
  {
   "cell_type": "code",
   "execution_count": 5,
   "id": "186d5925bdd633b0",
   "metadata": {
    "ExecuteTime": {
     "end_time": "2024-10-22T12:29:11.334724Z",
     "start_time": "2024-10-22T12:29:11.319181Z"
    },
    "tags": []
   },
   "outputs": [
    {
     "name": "stdout",
     "output_type": "stream",
     "text": [
      "['la', 'inteligencia', 'artificial', 'continúa', 'avanzando', 'rápidamente,', 'transformando', 'sectores', 'como', 'la', 'salud', 'y', 'las', 'finanzas.', 'las', 'empresas', 'están', 'adoptando', 'algoritmos', 'de', 'aprendizaje', 'automático', 'para', 'mejorar', 'la', 'eficiencia.', 'sin', 'embargo,', 'el', 'desafío', 'principal', 'sigue', 'siendo', 'garantizar', 'que', 'las', 'decisiones', 'basadas', 'en', 'datos', 'sean', 'justas', 'y', 'no', 'perpetúen', 'sesgos.', 'la', 'ética', 'es', 'fundamental', 'en', 'este', 'contexto.']\n"
     ]
    }
   ],
   "source": [
    "print(datos[0]['text'].lower().split())  # Imprime una lista de palabras del texto en minúsculas del primer documento, separadas por espacios."
   ]
  },
  {
   "cell_type": "code",
   "execution_count": 6,
   "id": "63b4fbc92a3a663d",
   "metadata": {
    "ExecuteTime": {
     "end_time": "2024-10-22T12:29:44.074040Z",
     "start_time": "2024-10-22T12:29:44.059539Z"
    },
    "tags": []
   },
   "outputs": [
    {
     "name": "stdout",
     "output_type": "stream",
     "text": [
      "{'algoritmos', 'sesgos.', 'embargo,', 'sigue', 'de', 'rápidamente,', 'continúa', 'transformando', 'decisiones', 'inteligencia', 'datos', 'avanzando', 'eficiencia.', 'en', 'artificial', 'no', 'es', 'mejorar', 'y', 'sin', 'desafío', 'salud', 'adoptando', 'como', 'las', 'sectores', 'automático', 'siendo', 'fundamental', 'empresas', 'el', 'que', 'contexto.', 'están', 'justas', 'basadas', 'finanzas.', 'aprendizaje', 'ética', 'la', 'sean', 'perpetúen', 'para', 'principal', 'garantizar', 'este'}\n",
      "46\n"
     ]
    }
   ],
   "source": [
    "vocab = set(datos[0]['text'].lower().split())  # Crea un conjunto único de palabras en minúsculas del primer documento.\n",
    "print(vocab)  # Imprime el conjunto de palabras únicas (vocabulario) del primer documento.\n",
    "print(len(vocab))  # Imprime el número de palabras únicas en el vocabulario."
   ]
  },
  {
   "cell_type": "code",
   "execution_count": 7,
   "id": "5eded2ae4aeba3e2",
   "metadata": {
    "ExecuteTime": {
     "end_time": "2024-10-22T12:36:39.293698Z",
     "start_time": "2024-10-22T12:36:39.280871Z"
    },
    "tags": []
   },
   "outputs": [
    {
     "name": "stdout",
     "output_type": "stream",
     "text": [
      "230\n",
      "{'personal', 'géneros', 'atraen', 'accesibles', 'nivel', 'todo', 'continúa', 'transacciones', 'decisiones', 'beneficios', 'inteligencia', 'tecnológicos', 'en', 'artificial', 'diagnostican', 'tratamientos', 'e-sports', 'flexibilidad', 'utilizan', 'distancia', 'explorando', 'desafío', 'sin', 'forma', 'libros', 'también', 'pagos', 'médicos', 'finanzas', 'a', 'digitales', 'mundos', 'invita', 'usuario', 'reflexionar', 'integral', 'empresas', 'el', 'millones', 'importar', 'su', 'aumentada', 'justas', 'hasta', 'rápidos', 'electrónico', 'presencial', 'años', 'cuándo', 'la', 'experiencia', 'personalizados', 'virtuales', 'siguen', 'aquellos', 'promueven', 'este', 'línea', 'populares', 'de', 'recomendaciones', 'ha', 'saludables', 'aplicaciones', 'datos', 'avanzando', 'está', 'con', 'inmersivos', 'interactuar', 'crecimiento', 'muchas', 'un', 'películas', 'nuevo', 'aumento', 'telemedicina', 'salud', 'rápidamente', 'una', 'cada', 'como', 'pueden', 'humanidad', 'las', 'ahora', 'llevado', 'uno', 'convertido', 'sobre', 'aunque', 'completo', 'contenido', 'desarrollo', 'contexto', 'reto', 'avances', 'trabajos', 'visuales', 'basadas', 'calidad', 'aprendizaje', 'ética', 'compras', 'donde', 'ficción', 'adopción', 'creciente', 'monitorean', 'realistas', 'además', 'escenas', 'mercado', 'género', 'algoritmos', 'prometedor', 'streaming', 'tiempo', 'sigue', 'mejores', 'más', 'personalizadas', 'transformando', 'ciencia', 'es', 'mejorar', 'mundo', 'falta', 'cambiando', 'comercio', 'jugadores', 'acceso', 'literarios', 'portátiles', 'avanzadas', 'demanda', 'hábitos', 'cursos', 'tratan', 'cuidados', 'embargo', 'eficiencia', 'diarias', 'crear', 'series', 'bienestar', 'consumidores', 'medicina', 'programas', 'vez', 'están', 'plataformas', 'desafían', 'democratizando', 'compramos', 'ubicación', 'habilidades', 'permitiendo', 'cómo', 'público', 'vida', 'perpetúen', 'para', 'garantizar', 'mayores', 'interacción', 'cinematográficas', 'consume', 'viaje', 'sesgos', 'enfoque', 'se', 'prioridad', 'permitido', 'nuevas', 'optimizando', 'sino', 'desde', 'educativa', 'evolucionado', 'no', 'eficaces', 'profesionales', 'cine', 'facilitando', 'buscan', 'individual', 'y', 'tecnología', 'tecnologías', 'acceder', 'mejorando', 'adoptando', 'especialmente', 'espectadores', 'realidad', 'entretiene', 'educación', 'sectores', 'automático', 'experiencias', 'planetas', 'enfermedades', 'siendo', 'fundamental', 'efectos', 'implicaciones', 'otros', 'temas', 'solo', 'que', 'los', 'impulsa', 'videojuegos', 'competencias', 'futuro', 'producciones', 'personas', 'alcanzado', 'cambiado', 'ofrecer', 'real', 'sean', 'herramientas', 'transformado', 'incorporando', 'principal', 'sus', 'estudiantes', 'dispositivos'}\n"
     ]
    }
   ],
   "source": [
    "vocab = []  # Inicializa una lista vacía para almacenar todas las palabras de todos los documentos.\n",
    "\n",
    "# Itera sobre cada documento en el corpus para extraer el texto\n",
    "for i in range(0, len(datos)):\n",
    "    # Convierte el texto a minúsculas, elimina comas y puntos, divide en palabras y añade a 'vocab'\n",
    "    vocab.extend(datos[i]['text'].lower().replace(',', '').replace('.', '').split())\n",
    "\n",
    "vocab = set(vocab)  # Convierte la lista de palabras en un conjunto para eliminar duplicados y formar el vocabulario único.\n",
    "print(len(vocab))  # Imprime la cantidad total de palabras únicas en el vocabulario.\n",
    "print(vocab)  # Imprime el vocabulario único como conjunto de palabras.\n"
   ]
  },
  {
   "cell_type": "markdown",
   "id": "549d0d8b6f7ed0a2",
   "metadata": {},
   "source": [
    "## Paso 2: Calcular una matriz término-documento\n",
    "Una vez que tenemos el vocabulario, el siguiente paso es construir una **matriz término-documento**, que nos permitirá representar cada documento como un vector en el espacio de términos."
   ]
  },
  {
   "cell_type": "code",
   "execution_count": 8,
   "id": "4b35c2996c774ec2",
   "metadata": {
    "ExecuteTime": {
     "end_time": "2024-10-22T13:00:04.977448Z",
     "start_time": "2024-10-22T13:00:04.961452Z"
    },
    "tags": []
   },
   "outputs": [],
   "source": [
    "def tdtransform(text):\n",
    "    # Inicializa una lista vacía para representar la presencia o ausencia de cada palabra en el vocabulario.\n",
    "    doc = []\n",
    "\n",
    "    # Recorre cada palabra en el vocabulario único\n",
    "    for word in vocab:\n",
    "        # Verifica si la palabra del vocabulario está presente en el texto dado\n",
    "        # Convierte el texto a minúsculas, elimina comas y puntos, y lo divide en palabras\n",
    "        if word in text.lower().replace(',', '').replace('.', '').split():\n",
    "            doc.append(1)  # Añade 1 si la palabra está presente en el texto\n",
    "        else:\n",
    "            doc.append(0)  # Añade 0 si la palabra no está presente en el texto\n",
    "\n",
    "    # Devuelve el vector binario resultante que representa el texto en el espacio del vocabulario\n",
    "    return doc"
   ]
  },
  {
   "cell_type": "code",
   "execution_count": 9,
   "id": "1b052a6cd19731a5",
   "metadata": {
    "ExecuteTime": {
     "end_time": "2024-10-22T13:00:30.419629Z",
     "start_time": "2024-10-22T13:00:30.382836Z"
    },
    "tags": []
   },
   "outputs": [
    {
     "name": "stdout",
     "output_type": "stream",
     "text": [
      "[[0, 0, 0, 0, 0, 0, 1, 0, 1, 0, 1, 0, 1, 1, 0, 0, 0, 0, 0, 0, 0, 1, 1, 0, 0, 0, 0, 0, 1, 0, 0, 0, 0, 0, 0, 0, 1, 1, 0, 0, 0, 0, 1, 0, 0, 0, 0, 0, 0, 1, 0, 0, 0, 0, 0, 0, 1, 0, 0, 1, 0, 0, 0, 0, 1, 1, 0, 0, 0, 0, 0, 0, 0, 0, 0, 0, 0, 1, 1, 0, 0, 1, 0, 0, 1, 0, 0, 0, 0, 0, 0, 0, 0, 0, 1, 0, 0, 0, 0, 1, 0, 1, 1, 0, 0, 0, 0, 0, 0, 0, 0, 0, 0, 0, 1, 0, 0, 0, 1, 0, 0, 0, 1, 0, 1, 1, 0, 0, 0, 0, 0, 0, 0, 0, 0, 0, 0, 0, 0, 0, 1, 1, 0, 0, 0, 0, 0, 0, 0, 0, 1, 0, 0, 0, 0, 0, 0, 0, 0, 0, 0, 1, 1, 1, 0, 0, 0, 0, 0, 1, 0, 0, 0, 0, 0, 0, 0, 0, 0, 0, 1, 0, 0, 0, 0, 0, 0, 1, 0, 0, 0, 0, 1, 0, 0, 0, 0, 0, 1, 1, 0, 0, 0, 1, 1, 0, 0, 0, 0, 0, 1, 0, 0, 0, 0, 0, 0, 0, 0, 0, 0, 0, 1, 0, 0, 0, 1, 0, 0, 0], [0, 0, 1, 0, 1, 1, 0, 0, 0, 0, 1, 0, 1, 1, 0, 0, 1, 0, 0, 0, 0, 0, 0, 0, 0, 1, 0, 0, 0, 1, 0, 1, 0, 0, 0, 0, 0, 1, 1, 0, 0, 1, 0, 0, 0, 0, 0, 0, 0, 1, 0, 0, 1, 0, 0, 0, 1, 0, 0, 1, 0, 1, 0, 0, 0, 0, 0, 1, 1, 1, 1, 0, 1, 0, 1, 0, 0, 0, 0, 0, 0, 1, 1, 0, 1, 1, 0, 0, 0, 0, 0, 0, 0, 1, 0, 0, 0, 0, 0, 0, 0, 0, 0, 0, 1, 0, 0, 0, 0, 0, 0, 0, 1, 0, 0, 0, 0, 0, 0, 0, 1, 0, 0, 0, 0, 0, 1, 0, 0, 0, 1, 0, 0, 0, 0, 0, 0, 0, 0, 0, 0, 0, 0, 0, 0, 0, 0, 0, 0, 0, 0, 0, 0, 0, 0, 0, 0, 0, 0, 0, 0, 0, 0, 0, 0, 0, 0, 0, 0, 0, 0, 0, 0, 0, 0, 0, 0, 0, 0, 0, 0, 0, 1, 0, 0, 0, 0, 1, 0, 1, 0, 0, 0, 0, 1, 1, 0, 0, 0, 0, 0, 0, 0, 0, 0, 0, 0, 0, 0, 0, 0, 1, 1, 1, 1, 0, 0, 0, 1, 0, 0, 0, 0, 0, 0, 0, 0, 0, 0, 0], [0, 0, 0, 0, 0, 0, 0, 1, 0, 0, 0, 0, 1, 0, 0, 0, 0, 0, 0, 0, 0, 0, 0, 1, 0, 0, 1, 0, 0, 0, 1, 0, 0, 1, 0, 0, 1, 1, 0, 0, 0, 0, 0, 1, 1, 1, 0, 0, 0, 1, 0, 0, 0, 1, 0, 0, 0, 1, 0, 1, 1, 1, 0, 0, 0, 0, 0, 1, 0, 0, 0, 0, 0, 0, 0, 0, 0, 0, 0, 0, 0, 0, 0, 0, 1, 0, 0, 0, 0, 0, 0, 0, 0, 0, 0, 0, 1, 0, 0, 0, 0, 0, 0, 1, 0, 0, 0, 1, 0, 0, 0, 0, 0, 0, 0, 0, 0, 0, 0, 1, 0, 1, 0, 0, 0, 0, 0, 0, 0, 1, 0, 0, 0, 0, 0, 1, 0, 0, 0, 0, 0, 0, 1, 0, 0, 0, 1, 0, 0, 0, 1, 1, 0, 0, 1, 0, 0, 0, 0, 0, 0, 0, 1, 0, 0, 0, 0, 0, 0, 0, 0, 0, 0, 0, 0, 1, 0, 1, 0, 0, 0, 0, 0, 0, 1, 0, 0, 0, 1, 0, 0, 0, 0, 0, 0, 0, 0, 0, 0, 0, 1, 0, 0, 0, 0, 0, 0, 0, 0, 0, 1, 1, 0, 0, 0, 0, 0, 0, 0, 1, 1, 0, 0, 0, 0, 0, 0, 1, 0, 0], [0, 0, 0, 0, 0, 0, 0, 0, 0, 1, 0, 0, 0, 0, 0, 0, 0, 1, 0, 1, 0, 0, 1, 0, 0, 0, 0, 0, 0, 1, 1, 0, 0, 0, 0, 0, 0, 0, 1, 1, 1, 0, 0, 0, 0, 0, 1, 0, 0, 1, 1, 0, 0, 1, 1, 0, 0, 0, 0, 1, 0, 1, 0, 0, 0, 0, 0, 1, 0, 0, 0, 0, 1, 0, 0, 0, 0, 0, 0, 0, 0, 0, 0, 0, 1, 0, 0, 1, 0, 0, 1, 1, 0, 0, 0, 1, 0, 1, 0, 0, 1, 0, 0, 0, 0, 0, 0, 0, 0, 0, 0, 0, 0, 0, 0, 0, 0, 1, 0, 0, 0, 0, 0, 0, 1, 0, 0, 1, 0, 0, 0, 0, 0, 0, 0, 0, 0, 0, 0, 0, 0, 0, 0, 0, 0, 0, 0, 0, 1, 0, 0, 0, 0, 0, 0, 1, 0, 0, 0, 0, 0, 0, 1, 0, 1, 1, 0, 0, 0, 0, 0, 0, 0, 1, 0, 0, 0, 0, 1, 0, 0, 0, 0, 0, 0, 0, 0, 0, 0, 0, 1, 1, 0, 1, 0, 0, 0, 1, 0, 0, 0, 0, 0, 0, 0, 0, 0, 0, 0, 0, 0, 1, 0, 0, 0, 0, 0, 0, 0, 0, 0, 0, 0, 1, 0, 0, 0, 0, 1, 0], [0, 0, 0, 0, 0, 0, 0, 0, 0, 0, 0, 0, 0, 0, 0, 0, 0, 0, 1, 0, 0, 0, 0, 0, 0, 0, 0, 0, 0, 1, 0, 0, 0, 0, 0, 0, 0, 1, 0, 0, 0, 0, 0, 0, 0, 0, 0, 1, 1, 1, 0, 0, 0, 0, 0, 0, 0, 0, 0, 1, 0, 1, 0, 0, 0, 0, 0, 1, 0, 0, 0, 0, 0, 1, 0, 0, 0, 0, 0, 0, 1, 0, 0, 0, 1, 0, 0, 0, 0, 0, 0, 0, 1, 0, 0, 0, 0, 0, 1, 0, 0, 0, 0, 0, 0, 0, 0, 0, 0, 1, 1, 1, 0, 0, 0, 0, 1, 0, 0, 0, 1, 0, 0, 0, 0, 0, 0, 0, 0, 0, 0, 1, 0, 0, 1, 0, 0, 0, 0, 0, 0, 0, 0, 1, 1, 0, 0, 0, 0, 1, 0, 1, 1, 1, 0, 0, 0, 0, 1, 1, 0, 0, 1, 0, 0, 0, 1, 1, 0, 0, 0, 0, 0, 0, 0, 0, 0, 0, 0, 1, 0, 0, 0, 1, 0, 0, 0, 1, 0, 1, 0, 0, 0, 0, 0, 1, 0, 0, 0, 0, 0, 0, 0, 0, 0, 1, 0, 0, 0, 0, 1, 1, 0, 0, 0, 0, 1, 0, 0, 0, 0, 0, 0, 0, 1, 1, 0, 0, 0, 0], [0, 1, 0, 0, 0, 0, 0, 0, 0, 0, 1, 1, 1, 1, 0, 0, 0, 0, 0, 0, 1, 0, 0, 0, 0, 1, 0, 0, 0, 1, 0, 0, 1, 0, 1, 0, 0, 1, 0, 0, 0, 0, 0, 0, 0, 0, 0, 0, 0, 1, 0, 0, 0, 0, 0, 0, 1, 0, 1, 1, 0, 0, 0, 0, 0, 0, 0, 0, 0, 0, 0, 0, 0, 0, 0, 0, 0, 0, 0, 0, 0, 1, 0, 1, 1, 0, 0, 1, 0, 1, 0, 0, 0, 0, 0, 0, 1, 0, 0, 0, 0, 0, 0, 0, 0, 1, 0, 0, 0, 0, 0, 0, 0, 1, 0, 0, 0, 1, 0, 0, 1, 0, 0, 1, 1, 0, 0, 0, 0, 0, 0, 0, 1, 0, 0, 0, 0, 0, 0, 0, 0, 0, 0, 0, 0, 0, 0, 0, 0, 0, 0, 0, 0, 0, 0, 0, 0, 0, 0, 0, 1, 0, 0, 0, 0, 0, 0, 0, 1, 0, 0, 0, 0, 0, 0, 0, 1, 0, 0, 0, 1, 0, 0, 0, 0, 0, 0, 1, 0, 0, 0, 0, 0, 0, 0, 0, 1, 0, 0, 0, 0, 1, 0, 0, 0, 0, 1, 1, 1, 1, 1, 1, 0, 0, 0, 1, 0, 0, 0, 0, 0, 0, 0, 0, 0, 0, 0, 0, 0, 0], [1, 0, 0, 0, 0, 0, 0, 0, 0, 0, 0, 0, 1, 0, 0, 0, 0, 0, 0, 0, 0, 0, 0, 0, 1, 0, 0, 0, 0, 1, 0, 0, 0, 0, 0, 1, 0, 1, 0, 0, 1, 0, 0, 1, 0, 0, 0, 0, 0, 1, 0, 0, 0, 0, 0, 1, 0, 0, 0, 1, 0, 1, 1, 1, 0, 0, 0, 0, 0, 0, 1, 1, 1, 0, 0, 1, 0, 0, 0, 1, 0, 0, 0, 0, 0, 0, 1, 0, 1, 0, 0, 0, 0, 1, 0, 0, 0, 0, 0, 0, 1, 1, 0, 0, 0, 0, 1, 0, 0, 0, 0, 0, 0, 0, 0, 0, 0, 0, 0, 0, 0, 0, 0, 0, 0, 1, 0, 0, 0, 0, 0, 0, 0, 0, 0, 1, 1, 1, 0, 0, 0, 0, 0, 0, 0, 1, 0, 0, 0, 0, 0, 0, 0, 0, 0, 0, 1, 0, 0, 0, 1, 0, 1, 0, 0, 0, 0, 0, 0, 0, 1, 1, 1, 0, 1, 0, 0, 1, 0, 0, 0, 0, 0, 0, 0, 1, 1, 1, 0, 0, 0, 0, 0, 0, 0, 0, 0, 0, 0, 0, 0, 0, 0, 0, 0, 0, 0, 0, 0, 0, 1, 0, 0, 0, 0, 0, 0, 1, 0, 0, 0, 0, 0, 0, 0, 0, 0, 0, 0, 0], [0, 0, 0, 1, 0, 0, 0, 0, 0, 0, 0, 0, 1, 0, 1, 1, 0, 0, 0, 0, 0, 0, 0, 1, 0, 0, 0, 1, 0, 1, 0, 0, 0, 0, 0, 0, 0, 1, 0, 0, 0, 0, 0, 1, 0, 0, 0, 0, 0, 1, 0, 1, 0, 0, 0, 0, 0, 0, 0, 1, 0, 0, 0, 0, 0, 0, 1, 1, 0, 0, 0, 0, 0, 0, 0, 0, 1, 1, 0, 0, 0, 0, 0, 0, 1, 0, 0, 0, 0, 0, 0, 0, 0, 0, 0, 0, 1, 0, 0, 0, 0, 0, 0, 0, 0, 0, 0, 0, 1, 0, 0, 0, 0, 0, 0, 1, 0, 1, 0, 0, 1, 0, 0, 0, 1, 0, 0, 0, 1, 0, 0, 0, 0, 1, 0, 0, 0, 0, 1, 1, 0, 0, 0, 0, 0, 0, 0, 1, 0, 0, 1, 0, 0, 0, 0, 0, 0, 1, 0, 0, 0, 0, 0, 0, 0, 0, 0, 0, 0, 0, 0, 1, 0, 0, 0, 0, 0, 1, 0, 0, 0, 1, 0, 0, 0, 0, 0, 1, 1, 0, 0, 0, 0, 0, 0, 0, 0, 0, 0, 0, 0, 0, 1, 0, 0, 0, 0, 0, 0, 0, 1, 1, 0, 0, 0, 1, 0, 0, 0, 0, 1, 1, 0, 0, 0, 0, 0, 0, 0, 1]]\n"
     ]
    }
   ],
   "source": [
    "tdmatrix = []  # Inicializa una lista vacía para almacenar los vectores término-documento de cada documento.\n",
    "\n",
    "# Itera sobre cada documento en el corpus\n",
    "for i in range(0, len(datos)):\n",
    "    # Convierte el texto del documento actual en un vector binario usando la función tdtransform\n",
    "    doc = tdtransform(text=datos[i]['text'])\n",
    "    # Añade el vector binario del documento a la matriz término-documento\n",
    "    tdmatrix.append(doc)\n",
    "\n",
    "# Imprime la matriz término-documento completa, donde cada fila representa un documento y cada columna una palabra del vocabulario\n",
    "print(tdmatrix)\n"
   ]
  },
  {
   "cell_type": "markdown",
   "id": "a0abcd20f7bb7c44",
   "metadata": {},
   "source": [
    "## Paso 3: Obtener una representación de una _query_ en el espacio término-documento\n",
    "Ahora vamos a representar una _query_ como un vector en el mismo espacio de términos que hicimos para el corpus."
   ]
  },
  {
   "cell_type": "code",
   "execution_count": 11,
   "id": "f4abdc2c22664498",
   "metadata": {
    "ExecuteTime": {
     "end_time": "2024-10-22T13:01:09.239680Z",
     "start_time": "2024-10-22T13:01:09.223561Z"
    },
    "tags": []
   },
   "outputs": [
    {
     "name": "stdout",
     "output_type": "stream",
     "text": [
      "[0, 0, 0, 0, 0, 0, 0, 0, 0, 0, 1, 0, 1, 1, 0, 0, 0, 0, 0, 0, 0, 0, 0, 0, 0, 0, 0, 0, 0, 0, 0, 0, 0, 0, 0, 0, 0, 0, 0, 0, 0, 0, 0, 0, 0, 0, 0, 0, 0, 0, 0, 0, 0, 0, 0, 0, 0, 0, 0, 0, 0, 0, 0, 0, 0, 0, 0, 0, 0, 0, 0, 0, 0, 0, 0, 0, 0, 0, 0, 0, 0, 0, 0, 0, 0, 0, 0, 0, 0, 0, 0, 0, 0, 0, 0, 0, 0, 0, 0, 0, 0, 0, 0, 0, 0, 0, 0, 0, 0, 0, 0, 0, 0, 0, 0, 0, 0, 0, 0, 0, 0, 0, 0, 0, 0, 0, 0, 0, 0, 0, 0, 0, 0, 0, 0, 0, 0, 0, 0, 0, 0, 0, 0, 0, 0, 0, 0, 1, 0, 0, 0, 0, 0, 0, 0, 0, 0, 0, 0, 0, 0, 0, 0, 0, 0, 0, 0, 0, 0, 0, 0, 0, 0, 0, 0, 0, 0, 0, 0, 0, 0, 0, 0, 0, 0, 0, 0, 0, 0, 0, 0, 0, 0, 0, 0, 0, 0, 0, 0, 0, 0, 0, 0, 0, 0, 0, 0, 0, 0, 0, 0, 0, 0, 0, 0, 0, 0, 0, 0, 0, 0, 0, 0, 0, 0, 0, 0, 0, 0, 0]\n"
     ]
    }
   ],
   "source": [
    "query = \"inteligencia artificial en medicina\"  # Define la query de búsqueda como una cadena de texto.\n",
    "print(tdtransform(query))  # Convierte la query en un vector binario usando tdtransform y lo imprime."
   ]
  },
  {
   "cell_type": "markdown",
   "id": "49b612552e0a24cb",
   "metadata": {},
   "source": [
    "## Paso 4: Calcular la distancia entre la _query_ y todos los documentos del corpus\n",
    "Al obtener la distancia Jaccard entre la _query_ y cada documento del corpus, calculamos la relevancia que tiene cada documento para la _query_ "
   ]
  },
  {
   "cell_type": "code",
   "execution_count": 13,
   "id": "b60c6b18c45dcb83",
   "metadata": {
    "tags": []
   },
   "outputs": [],
   "source": [
    "from typing import List  # Importa 'List' del módulo 'typing' para especificar listas en anotaciones de tipo."
   ]
  },
  {
   "cell_type": "code",
   "execution_count": 14,
   "id": "0829be5a-e421-4c30-b0f5-93aa00d35ac2",
   "metadata": {
    "tags": []
   },
   "outputs": [],
   "source": [
    "# Función para calcular la distancia de Jaccard entre dos vectores binarios\n",
    "def jaccard_distance(vector1: List[int], vector2: List[int]) -> float:\n",
    "    # Calcula la intersección y la unión de los vectores\n",
    "    intersection = sum(1 for i in range(len(vector1)) if vector1[i] == 1 and vector2[i] == 1)\n",
    "    union = sum(1 for i in range(len(vector1)) if vector1[i] == 1 or vector2[i] == 1)\n",
    "    # Retorna la distancia de Jaccard\n",
    "    return 1 - (intersection / union) if union != 0 else 1  # Evita división por cero"
   ]
  },
  {
   "cell_type": "code",
   "execution_count": 16,
   "id": "37ffef29-6c64-4416-9d84-d3e484b99634",
   "metadata": {
    "tags": []
   },
   "outputs": [
    {
     "name": "stdout",
     "output_type": "stream",
     "text": [
      "Query 1 - 'Inteligencia artificial en medicina':\n",
      "[0, 0, 0, 0, 0, 0, 0, 0, 0, 0, 1, 0, 1, 1, 0, 0, 0, 0, 0, 0, 0, 0, 0, 0, 0, 0, 0, 0, 0, 0, 0, 0, 0, 0, 0, 0, 0, 0, 0, 0, 0, 0, 0, 0, 0, 0, 0, 0, 0, 0, 0, 0, 0, 0, 0, 0, 0, 0, 0, 0, 0, 0, 0, 0, 0, 0, 0, 0, 0, 0, 0, 0, 0, 0, 0, 0, 0, 0, 0, 0, 0, 0, 0, 0, 0, 0, 0, 0, 0, 0, 0, 0, 0, 0, 0, 0, 0, 0, 0, 0, 0, 0, 0, 0, 0, 0, 0, 0, 0, 0, 0, 0, 0, 0, 0, 0, 0, 0, 0, 0, 0, 0, 0, 0, 0, 0, 0, 0, 0, 0, 0, 0, 0, 0, 0, 0, 0, 0, 0, 0, 0, 0, 0, 0, 0, 0, 0, 1, 0, 0, 0, 0, 0, 0, 0, 0, 0, 0, 0, 0, 0, 0, 0, 0, 0, 0, 0, 0, 0, 0, 0, 0, 0, 0, 0, 0, 0, 0, 0, 0, 0, 0, 0, 0, 0, 0, 0, 0, 0, 0, 0, 0, 0, 0, 0, 0, 0, 0, 0, 0, 0, 0, 0, 0, 0, 0, 0, 0, 0, 0, 0, 0, 0, 0, 0, 0, 0, 0, 0, 0, 0, 0, 0, 0, 0, 0, 0, 0, 0, 0]\n",
      "\n",
      "Query 2 - 'beneficios de la educación a distancia':\n",
      "[0, 0, 0, 0, 0, 0, 0, 0, 0, 1, 0, 0, 0, 0, 0, 0, 0, 0, 0, 1, 0, 0, 0, 0, 0, 0, 0, 0, 0, 1, 0, 0, 0, 0, 0, 0, 0, 0, 0, 0, 0, 0, 0, 0, 0, 0, 0, 0, 0, 1, 0, 0, 0, 0, 0, 0, 0, 0, 0, 1, 0, 0, 0, 0, 0, 0, 0, 0, 0, 0, 0, 0, 0, 0, 0, 0, 0, 0, 0, 0, 0, 0, 0, 0, 0, 0, 0, 0, 0, 0, 0, 0, 0, 0, 0, 0, 0, 0, 0, 0, 0, 0, 0, 0, 0, 0, 0, 0, 0, 0, 0, 0, 0, 0, 0, 0, 0, 0, 0, 0, 0, 0, 0, 0, 0, 0, 0, 0, 0, 0, 0, 0, 0, 0, 0, 0, 0, 0, 0, 0, 0, 0, 0, 0, 0, 0, 0, 0, 0, 0, 0, 0, 0, 0, 0, 0, 0, 0, 0, 0, 0, 0, 0, 0, 0, 0, 0, 0, 0, 0, 0, 0, 0, 0, 0, 0, 0, 0, 0, 0, 0, 0, 0, 0, 0, 0, 0, 0, 0, 0, 0, 0, 0, 0, 0, 0, 0, 1, 0, 0, 0, 0, 0, 0, 0, 0, 0, 0, 0, 0, 0, 0, 0, 0, 0, 0, 0, 0, 0, 0, 0, 0, 0, 0, 0, 0, 0, 0, 0, 0]\n",
      "\n",
      "Query 3 - 'realidad aumentada en videojuegos':\n",
      "[0, 0, 0, 0, 0, 0, 0, 0, 0, 0, 0, 0, 1, 0, 0, 0, 0, 0, 0, 0, 0, 0, 0, 0, 0, 0, 0, 0, 0, 0, 0, 0, 0, 0, 0, 0, 0, 0, 0, 0, 0, 1, 0, 0, 0, 0, 0, 0, 0, 0, 0, 0, 0, 0, 0, 0, 0, 0, 0, 0, 0, 0, 0, 0, 0, 0, 0, 0, 0, 0, 0, 0, 0, 0, 0, 0, 0, 0, 0, 0, 0, 0, 0, 0, 0, 0, 0, 0, 0, 0, 0, 0, 0, 0, 0, 0, 0, 0, 0, 0, 0, 0, 0, 0, 0, 0, 0, 0, 0, 0, 0, 0, 0, 0, 0, 0, 0, 0, 0, 0, 0, 0, 0, 0, 0, 0, 0, 0, 0, 0, 0, 0, 0, 0, 0, 0, 0, 0, 0, 0, 0, 0, 0, 0, 0, 0, 0, 0, 0, 0, 0, 0, 0, 0, 0, 0, 0, 0, 0, 0, 0, 0, 0, 0, 0, 0, 0, 0, 0, 0, 0, 0, 0, 0, 0, 0, 0, 0, 0, 0, 0, 0, 0, 0, 0, 0, 0, 0, 0, 0, 0, 0, 0, 0, 0, 1, 0, 0, 0, 0, 0, 0, 0, 0, 0, 0, 0, 0, 0, 0, 0, 0, 0, 1, 0, 0, 0, 0, 0, 0, 0, 0, 0, 0, 0, 0, 0, 0, 0, 0]\n",
      "\n",
      "Query 4 - 'desarrollo personal y habitos saludables':\n",
      "[1, 0, 0, 0, 0, 0, 0, 0, 0, 0, 0, 0, 0, 0, 0, 0, 0, 0, 0, 0, 0, 0, 0, 0, 0, 0, 0, 0, 0, 0, 0, 0, 0, 0, 0, 0, 0, 0, 0, 0, 0, 0, 0, 0, 0, 0, 0, 0, 0, 0, 0, 0, 0, 0, 0, 0, 0, 0, 0, 0, 0, 0, 1, 0, 0, 0, 0, 0, 0, 0, 0, 0, 0, 0, 0, 0, 0, 0, 0, 0, 0, 0, 0, 0, 0, 0, 0, 0, 0, 0, 0, 0, 0, 1, 0, 0, 0, 0, 0, 0, 0, 0, 0, 0, 0, 0, 0, 0, 0, 0, 0, 0, 0, 0, 0, 0, 0, 0, 0, 0, 0, 0, 0, 0, 0, 0, 0, 0, 0, 0, 0, 0, 0, 0, 0, 0, 0, 0, 0, 0, 0, 0, 0, 0, 0, 0, 0, 0, 0, 0, 0, 0, 0, 0, 0, 0, 0, 0, 0, 0, 0, 0, 0, 0, 0, 0, 0, 0, 0, 0, 0, 0, 0, 0, 0, 0, 0, 0, 0, 0, 0, 0, 0, 0, 0, 0, 0, 1, 0, 0, 0, 0, 0, 0, 0, 0, 0, 0, 0, 0, 0, 0, 0, 0, 0, 0, 0, 0, 0, 0, 0, 0, 0, 0, 0, 0, 0, 0, 0, 0, 0, 0, 0, 0, 0, 0, 0, 0, 0, 0]\n",
      "\n",
      "Query 5 - 'futuro del comercio electrónico':\n",
      "[0, 0, 0, 0, 0, 0, 0, 0, 0, 0, 0, 0, 0, 0, 0, 0, 0, 0, 0, 0, 0, 0, 0, 0, 0, 0, 0, 0, 0, 0, 0, 0, 0, 0, 0, 0, 0, 0, 0, 0, 0, 0, 0, 0, 0, 1, 0, 0, 0, 0, 0, 0, 0, 0, 0, 0, 0, 0, 0, 0, 0, 0, 0, 0, 0, 0, 0, 0, 0, 0, 0, 0, 0, 0, 0, 0, 0, 0, 0, 0, 0, 0, 0, 0, 0, 0, 0, 0, 0, 0, 0, 0, 0, 0, 0, 0, 0, 0, 0, 0, 0, 0, 0, 0, 0, 0, 0, 0, 0, 0, 0, 0, 0, 0, 0, 0, 0, 0, 0, 0, 0, 0, 0, 0, 0, 0, 0, 0, 0, 1, 0, 0, 0, 0, 0, 0, 0, 0, 0, 0, 0, 0, 0, 0, 0, 0, 0, 0, 0, 0, 0, 0, 0, 0, 0, 0, 0, 0, 0, 0, 0, 0, 0, 0, 0, 0, 0, 0, 0, 0, 0, 0, 0, 0, 0, 0, 0, 0, 0, 0, 0, 0, 0, 0, 0, 0, 0, 0, 0, 0, 0, 0, 0, 0, 0, 0, 0, 0, 0, 0, 0, 0, 0, 0, 0, 0, 0, 0, 0, 0, 0, 0, 0, 0, 0, 1, 0, 0, 0, 0, 0, 0, 0, 0, 0, 0, 0, 0, 0, 0]\n",
      "\n",
      "Query 6 - 'tecnologías en cine moderno':\n",
      "[0, 0, 0, 0, 0, 0, 0, 0, 0, 0, 0, 0, 1, 0, 0, 0, 0, 0, 0, 0, 0, 0, 0, 0, 0, 0, 0, 0, 0, 0, 0, 0, 0, 0, 0, 0, 0, 0, 0, 0, 0, 0, 0, 0, 0, 0, 0, 0, 0, 0, 0, 0, 0, 0, 0, 0, 0, 0, 0, 0, 0, 0, 0, 0, 0, 0, 0, 0, 0, 0, 0, 0, 0, 0, 0, 0, 0, 0, 0, 0, 0, 0, 0, 0, 0, 0, 0, 0, 0, 0, 0, 0, 0, 0, 0, 0, 0, 0, 0, 0, 0, 0, 0, 0, 0, 0, 0, 0, 0, 0, 0, 0, 0, 0, 0, 0, 0, 0, 0, 0, 0, 0, 0, 0, 0, 0, 0, 0, 0, 0, 0, 0, 0, 0, 0, 0, 0, 0, 0, 0, 0, 0, 0, 0, 0, 0, 0, 0, 0, 0, 0, 0, 0, 0, 0, 0, 0, 0, 0, 0, 0, 0, 0, 0, 0, 0, 0, 0, 0, 0, 0, 0, 0, 0, 0, 0, 0, 0, 0, 0, 0, 0, 0, 1, 0, 0, 0, 0, 0, 1, 0, 0, 0, 0, 0, 0, 0, 0, 0, 0, 0, 0, 0, 0, 0, 0, 0, 0, 0, 0, 0, 0, 0, 0, 0, 0, 0, 0, 0, 0, 0, 0, 0, 0, 0, 0, 0, 0, 0, 0]\n",
      "\n",
      "Query 7 - 'competencias de e-sports':\n",
      "[0, 0, 0, 0, 0, 0, 0, 0, 0, 0, 0, 0, 0, 0, 0, 0, 1, 0, 0, 0, 0, 0, 0, 0, 0, 0, 0, 0, 0, 0, 0, 0, 0, 0, 0, 0, 0, 0, 0, 0, 0, 0, 0, 0, 0, 0, 0, 0, 0, 0, 0, 0, 0, 0, 0, 0, 0, 0, 0, 1, 0, 0, 0, 0, 0, 0, 0, 0, 0, 0, 0, 0, 0, 0, 0, 0, 0, 0, 0, 0, 0, 0, 0, 0, 0, 0, 0, 0, 0, 0, 0, 0, 0, 0, 0, 0, 0, 0, 0, 0, 0, 0, 0, 0, 0, 0, 0, 0, 0, 0, 0, 0, 0, 0, 0, 0, 0, 0, 0, 0, 0, 0, 0, 0, 0, 0, 0, 0, 0, 0, 0, 0, 0, 0, 0, 0, 0, 0, 0, 0, 0, 0, 0, 0, 0, 0, 0, 0, 0, 0, 0, 0, 0, 0, 0, 0, 0, 0, 0, 0, 0, 0, 0, 0, 0, 0, 0, 0, 0, 0, 0, 0, 0, 0, 0, 0, 0, 0, 0, 0, 0, 0, 0, 0, 0, 0, 0, 0, 0, 0, 0, 0, 0, 0, 0, 0, 0, 0, 0, 0, 0, 0, 0, 0, 0, 0, 0, 0, 0, 0, 0, 0, 0, 0, 1, 0, 0, 0, 0, 0, 0, 0, 0, 0, 0, 0, 0, 0, 0, 0]\n",
      "\n",
      "Query 8 - 'diagnostico con dispositivos portátiles':\n",
      "[0, 0, 0, 0, 0, 0, 0, 0, 0, 0, 0, 0, 0, 0, 0, 0, 0, 0, 0, 0, 0, 0, 0, 0, 0, 0, 0, 0, 0, 0, 0, 0, 0, 0, 0, 0, 0, 0, 0, 0, 0, 0, 0, 0, 0, 0, 0, 0, 0, 0, 0, 0, 0, 0, 0, 0, 0, 0, 0, 0, 0, 0, 0, 0, 0, 0, 0, 1, 0, 0, 0, 0, 0, 0, 0, 0, 0, 0, 0, 0, 0, 0, 0, 0, 0, 0, 0, 0, 0, 0, 0, 0, 0, 0, 0, 0, 0, 0, 0, 0, 0, 0, 0, 0, 0, 0, 0, 0, 0, 0, 0, 0, 0, 0, 0, 0, 0, 0, 0, 0, 0, 0, 0, 0, 0, 0, 0, 0, 0, 0, 0, 0, 0, 1, 0, 0, 0, 0, 0, 0, 0, 0, 0, 0, 0, 0, 0, 0, 0, 0, 0, 0, 0, 0, 0, 0, 0, 0, 0, 0, 0, 0, 0, 0, 0, 0, 0, 0, 0, 0, 0, 0, 0, 0, 0, 0, 0, 0, 0, 0, 0, 0, 0, 0, 0, 0, 0, 0, 0, 0, 0, 0, 0, 0, 0, 0, 0, 0, 0, 0, 0, 0, 0, 0, 0, 0, 0, 0, 0, 0, 0, 0, 0, 0, 0, 0, 0, 0, 0, 0, 0, 0, 0, 0, 0, 0, 0, 0, 0, 1]\n",
      "\n",
      "Query 9 - 'literatura de ciencia ficción':\n",
      "[0, 0, 0, 0, 0, 0, 0, 0, 0, 0, 0, 0, 0, 0, 0, 0, 0, 0, 0, 0, 0, 0, 0, 0, 0, 0, 0, 0, 0, 0, 0, 0, 0, 0, 0, 0, 0, 0, 0, 0, 0, 0, 0, 0, 0, 0, 0, 0, 0, 0, 0, 0, 0, 0, 0, 0, 0, 0, 0, 1, 0, 0, 0, 0, 0, 0, 0, 0, 0, 0, 0, 0, 0, 0, 0, 0, 0, 0, 0, 0, 0, 0, 0, 0, 0, 0, 0, 0, 0, 0, 0, 0, 0, 0, 0, 0, 0, 0, 0, 0, 0, 0, 0, 0, 0, 1, 0, 0, 0, 0, 0, 0, 0, 0, 0, 0, 0, 0, 0, 0, 0, 0, 0, 1, 0, 0, 0, 0, 0, 0, 0, 0, 0, 0, 0, 0, 0, 0, 0, 0, 0, 0, 0, 0, 0, 0, 0, 0, 0, 0, 0, 0, 0, 0, 0, 0, 0, 0, 0, 0, 0, 0, 0, 0, 0, 0, 0, 0, 0, 0, 0, 0, 0, 0, 0, 0, 0, 0, 0, 0, 0, 0, 0, 0, 0, 0, 0, 0, 0, 0, 0, 0, 0, 0, 0, 0, 0, 0, 0, 0, 0, 0, 0, 0, 0, 0, 0, 0, 0, 0, 0, 0, 0, 0, 0, 0, 0, 0, 0, 0, 0, 0, 0, 0, 0, 0, 0, 0, 0, 0]\n",
      "\n",
      "Query 10 - 'plataformas de streaming':\n",
      "[0, 0, 0, 0, 0, 0, 0, 0, 0, 0, 0, 0, 0, 0, 0, 0, 0, 0, 0, 0, 0, 0, 0, 0, 0, 0, 0, 0, 0, 0, 0, 0, 0, 0, 0, 0, 0, 0, 0, 0, 0, 0, 0, 0, 0, 0, 0, 0, 0, 0, 0, 0, 0, 0, 0, 0, 0, 0, 0, 1, 0, 0, 0, 0, 0, 0, 0, 0, 0, 0, 0, 0, 0, 0, 0, 0, 0, 0, 0, 0, 0, 0, 0, 0, 0, 0, 0, 0, 0, 0, 0, 0, 0, 0, 0, 0, 0, 0, 0, 0, 0, 0, 0, 0, 0, 0, 0, 0, 0, 0, 0, 0, 0, 0, 0, 0, 1, 0, 0, 0, 0, 0, 0, 0, 0, 0, 0, 0, 0, 0, 0, 0, 0, 0, 0, 0, 0, 0, 0, 0, 0, 0, 0, 0, 0, 0, 0, 0, 0, 0, 0, 1, 0, 0, 0, 0, 0, 0, 0, 0, 0, 0, 0, 0, 0, 0, 0, 0, 0, 0, 0, 0, 0, 0, 0, 0, 0, 0, 0, 0, 0, 0, 0, 0, 0, 0, 0, 0, 0, 0, 0, 0, 0, 0, 0, 0, 0, 0, 0, 0, 0, 0, 0, 0, 0, 0, 0, 0, 0, 0, 0, 0, 0, 0, 0, 0, 0, 0, 0, 0, 0, 0, 0, 0, 0, 0, 0, 0, 0, 0]\n",
      "\n"
     ]
    }
   ],
   "source": [
    "# Define una lista de queries específicas relacionadas con distintos temas de interés\n",
    "queries = [\n",
    "    \"Inteligencia artificial en medicina\",\n",
    "    \"beneficios de la educación a distancia\",\n",
    "    \"realidad aumentada en videojuegos\",\n",
    "    \"desarrollo personal y habitos saludables\",\n",
    "    \"futuro del comercio electrónico\",\n",
    "    \"tecnologías en cine moderno\",\n",
    "    \"competencias de e-sports\",\n",
    "    \"diagnostico con dispositivos portátiles\",\n",
    "    \"literatura de ciencia ficción\",\n",
    "    \"plataformas de streaming\"\n",
    "]\n",
    "\n",
    "# Convierte cada query en un vector binario usando la función 'tdtransform'\n",
    "query_vectors = [tdtransform(query) for query in queries]\n",
    "\n",
    "# Itera sobre cada query y su correspondiente vector para imprimir resultados\n",
    "for i, query_vector in enumerate(query_vectors):\n",
    "    # Imprime el número de la query y su texto original\n",
    "    print(f\"Query {i + 1} - '{queries[i]}':\")\n",
    "    # Imprime el vector binario que representa la query en el espacio término-documento\n",
    "    print(query_vector)\n",
    "    print()  # Línea en blanco para separar visualmente los resultados de cada query\n"
   ]
  },
  {
   "cell_type": "code",
   "execution_count": 23,
   "id": "f3c418e5-5a2f-4f72-95d7-befd1f3d5cdb",
   "metadata": {
    "tags": []
   },
   "outputs": [],
   "source": [
    "# Diccionario para almacenar los resultados sin imprimir\n",
    "results = {}\n",
    "\n",
    "# Para cada query en la lista de vectores de queries\n",
    "for query_index, query_vector in enumerate(query_vectors):\n",
    "    # Inicializa una lista para almacenar distancias de Jaccard de la query actual con cada documento\n",
    "    distances = []\n",
    "    \n",
    "    # Itera sobre cada documento en la matriz término-documento junto con su índice\n",
    "    for doc_index, doc_vector in enumerate(tdmatrix):\n",
    "        # Calcula la distancia de Jaccard entre el vector de la query actual y el vector del documento\n",
    "        distance = jaccard_distance(query_vector, doc_vector)\n",
    "        # Añade una tupla con el índice del documento y su distancia de Jaccard a la lista de distancias\n",
    "        distances.append((doc_index, distance))\n",
    "    \n",
    "    # Ordena los documentos por relevancia (menor distancia de Jaccard)\n",
    "    sorted_distances = sorted(distances, key=lambda x: x[1])\n",
    "\n",
    "    # Almacena los resultados ordenados en el diccionario 'results'\n",
    "    results[queries[query_index]] = sorted_distances\n",
    "\n"
   ]
  },
  {
   "cell_type": "markdown",
   "id": "3173b4cbd523e996",
   "metadata": {},
   "source": [
    "## Paso 5: Entregar los resultados de la búsqueda al usuario\n",
    "A partir de la _query_, debemos indicar al usuario cuáles documentos son los más relevantes. Se debe presentar la información en orden de relevancia."
   ]
  },
  {
   "cell_type": "code",
   "execution_count": 22,
   "id": "a42b03b1bb879635",
   "metadata": {
    "tags": []
   },
   "outputs": [
    {
     "name": "stdout",
     "output_type": "stream",
     "text": [
      "Resultados de búsqueda para Query: 'Inteligencia artificial en medicina'\n",
      "Documentos más relevantes:\n",
      "1. Documento 5 - Distancia Jaccard: 0.9302\n",
      "2. Documento 1 - Distancia Jaccard: 0.9333\n",
      "3. Documento 0 - Distancia Jaccard: 0.9362\n",
      "4. Documento 7 - Distancia Jaccard: 0.9545\n",
      "5. Documento 2 - Distancia Jaccard: 0.9778\n",
      "6. Documento 6 - Distancia Jaccard: 0.9783\n",
      "7. Documento 3 - Distancia Jaccard: 1.0000\n",
      "8. Documento 4 - Distancia Jaccard: 1.0000\n",
      "\n",
      "Resultados de búsqueda para Query: 'beneficios de la educación a distancia'\n",
      "Documentos más relevantes:\n",
      "1. Documento 3 - Distancia Jaccard: 0.8571\n",
      "2. Documento 5 - Distancia Jaccard: 0.9333\n",
      "3. Documento 7 - Distancia Jaccard: 0.9333\n",
      "4. Documento 4 - Distancia Jaccard: 0.9348\n",
      "5. Documento 6 - Distancia Jaccard: 0.9348\n",
      "6. Documento 1 - Distancia Jaccard: 0.9362\n",
      "7. Documento 2 - Distancia Jaccard: 0.9565\n",
      "8. Documento 0 - Distancia Jaccard: 0.9600\n",
      "\n",
      "Resultados de búsqueda para Query: 'realidad aumentada en videojuegos'\n",
      "Documentos más relevantes:\n",
      "1. Documento 1 - Distancia Jaccard: 0.9091\n",
      "2. Documento 2 - Distancia Jaccard: 0.9778\n",
      "3. Documento 5 - Distancia Jaccard: 0.9778\n",
      "4. Documento 7 - Distancia Jaccard: 0.9778\n",
      "5. Documento 4 - Distancia Jaccard: 0.9783\n",
      "6. Documento 6 - Distancia Jaccard: 0.9783\n",
      "7. Documento 0 - Distancia Jaccard: 0.9796\n",
      "8. Documento 3 - Distancia Jaccard: 1.0000\n",
      "\n",
      "Resultados de búsqueda para Query: 'desarrollo personal y habitos saludables'\n",
      "Documentos más relevantes:\n",
      "1. Documento 6 - Distancia Jaccard: 0.9070\n",
      "2. Documento 1 - Distancia Jaccard: 0.9565\n",
      "3. Documento 5 - Distancia Jaccard: 0.9778\n",
      "4. Documento 7 - Distancia Jaccard: 0.9778\n",
      "5. Documento 4 - Distancia Jaccard: 0.9783\n",
      "6. Documento 0 - Distancia Jaccard: 0.9796\n",
      "7. Documento 2 - Distancia Jaccard: 1.0000\n",
      "8. Documento 3 - Distancia Jaccard: 1.0000\n",
      "\n",
      "Resultados de búsqueda para Query: 'futuro del comercio electrónico'\n",
      "Documentos más relevantes:\n",
      "1. Documento 2 - Distancia Jaccard: 0.9535\n",
      "2. Documento 5 - Distancia Jaccard: 0.9773\n",
      "3. Documento 7 - Distancia Jaccard: 0.9773\n",
      "4. Documento 0 - Distancia Jaccard: 1.0000\n",
      "5. Documento 1 - Distancia Jaccard: 1.0000\n",
      "6. Documento 3 - Distancia Jaccard: 1.0000\n",
      "7. Documento 4 - Distancia Jaccard: 1.0000\n",
      "8. Documento 6 - Distancia Jaccard: 1.0000\n",
      "\n",
      "Resultados de búsqueda para Query: 'tecnologías en cine moderno'\n",
      "Documentos más relevantes:\n",
      "1. Documento 4 - Distancia Jaccard: 0.9545\n",
      "2. Documento 1 - Distancia Jaccard: 0.9556\n",
      "3. Documento 2 - Distancia Jaccard: 0.9773\n",
      "4. Documento 5 - Distancia Jaccard: 0.9773\n",
      "5. Documento 7 - Distancia Jaccard: 0.9773\n",
      "6. Documento 6 - Distancia Jaccard: 0.9778\n",
      "7. Documento 0 - Distancia Jaccard: 0.9792\n",
      "8. Documento 3 - Distancia Jaccard: 1.0000\n",
      "\n",
      "Resultados de búsqueda para Query: 'competencias de e-sports'\n",
      "Documentos más relevantes:\n",
      "1. Documento 1 - Distancia Jaccard: 0.9318\n",
      "2. Documento 2 - Distancia Jaccard: 0.9773\n",
      "3. Documento 3 - Distancia Jaccard: 0.9773\n",
      "4. Documento 5 - Distancia Jaccard: 0.9773\n",
      "5. Documento 7 - Distancia Jaccard: 0.9773\n",
      "6. Documento 4 - Distancia Jaccard: 0.9778\n",
      "7. Documento 6 - Distancia Jaccard: 0.9778\n",
      "8. Documento 0 - Distancia Jaccard: 0.9792\n",
      "\n",
      "Resultados de búsqueda para Query: 'diagnostico con dispositivos portátiles'\n",
      "Documentos más relevantes:\n",
      "1. Documento 7 - Distancia Jaccard: 0.9286\n",
      "2. Documento 2 - Distancia Jaccard: 0.9773\n",
      "3. Documento 3 - Distancia Jaccard: 0.9773\n",
      "4. Documento 4 - Distancia Jaccard: 0.9778\n",
      "5. Documento 1 - Distancia Jaccard: 0.9783\n",
      "6. Documento 0 - Distancia Jaccard: 1.0000\n",
      "7. Documento 5 - Distancia Jaccard: 1.0000\n",
      "8. Documento 6 - Distancia Jaccard: 1.0000\n",
      "\n",
      "Resultados de búsqueda para Query: 'literatura de ciencia ficción'\n",
      "Documentos más relevantes:\n",
      "1. Documento 5 - Distancia Jaccard: 0.9286\n",
      "2. Documento 2 - Distancia Jaccard: 0.9773\n",
      "3. Documento 3 - Distancia Jaccard: 0.9773\n",
      "4. Documento 7 - Distancia Jaccard: 0.9773\n",
      "5. Documento 4 - Distancia Jaccard: 0.9778\n",
      "6. Documento 6 - Distancia Jaccard: 0.9778\n",
      "7. Documento 1 - Distancia Jaccard: 0.9783\n",
      "8. Documento 0 - Distancia Jaccard: 0.9792\n",
      "\n",
      "Resultados de búsqueda para Query: 'plataformas de streaming'\n",
      "Documentos más relevantes:\n",
      "1. Documento 4 - Distancia Jaccard: 0.9302\n",
      "2. Documento 2 - Distancia Jaccard: 0.9535\n",
      "3. Documento 3 - Distancia Jaccard: 0.9773\n",
      "4. Documento 5 - Distancia Jaccard: 0.9773\n",
      "5. Documento 7 - Distancia Jaccard: 0.9773\n",
      "6. Documento 6 - Distancia Jaccard: 0.9778\n",
      "7. Documento 1 - Distancia Jaccard: 0.9783\n",
      "8. Documento 0 - Distancia Jaccard: 0.9792\n",
      "\n"
     ]
    }
   ],
   "source": [
    "# Visualizar los resultados de búsqueda almacenados en 'results'\n",
    "for query, sorted_distances in results.items():\n",
    "    print(f\"Resultados de búsqueda para Query: '{query}'\")\n",
    "    \n",
    "    # Muestra solo el índice del documento y su distancia de Jaccard en orden de relevancia\n",
    "    print(\"Documentos más relevantes:\")\n",
    "    for rank, (doc_index, distance) in enumerate(sorted_distances, start=1):\n",
    "        print(f\"{rank}. Documento {doc_index} - Distancia Jaccard: {distance:.4f}\")\n",
    "    \n",
    "    print()  # Línea en blanco para separar resultados entre queries\n",
    "\n"
   ]
  },
  {
   "cell_type": "code",
   "execution_count": null,
   "id": "47df899e-bda1-4758-8d08-fbf74a6de507",
   "metadata": {},
   "outputs": [],
   "source": []
  }
 ],
 "metadata": {
  "kernelspec": {
   "display_name": "Python 3 (ipykernel)",
   "language": "python",
   "name": "python3"
  },
  "language_info": {
   "codemirror_mode": {
    "name": "ipython",
    "version": 3
   },
   "file_extension": ".py",
   "mimetype": "text/x-python",
   "name": "python",
   "nbconvert_exporter": "python",
   "pygments_lexer": "ipython3",
   "version": "3.11.5"
  }
 },
 "nbformat": 4,
 "nbformat_minor": 5
}
