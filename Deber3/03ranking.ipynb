{
 "cells": [
  {
   "cell_type": "markdown",
   "id": "ba027b5597ab7f20",
   "metadata": {},
   "source": [
    "# Ejercicio 03: Cálculo de Relevancia y Ranking de Documentos\n",
    "\n",
    "El objetivo de este ejercicio es calcular analíticamente la relevancia de cada documento en un corpus y luego ordenar (rankear) los documentos basándonos en esa puntuación de relevancia para tres consultas específicas. Seguirás los siguientes pasos:"
   ]
  },
  {
   "cell_type": "markdown",
   "id": "59292b2666317ed1",
   "metadata": {},
   "source": [
    "Descripción del Ejercicio\n",
    "\n",
    "1. Procesamiento del Corpus:\n",
    "    * Leer y parsear el archivo XML proporcionado que contiene el corpus de documentos con sus metadatos (keywords, autor y fecha).\n",
    "\n",
    "2. Procesamiento de las Consultas:\n",
    "    * Definir las consultas proporcionadas.\n",
    "    * Extraer las palabras clave de cada consulta.\n",
    "\n",
    "3. Cálculo de Relevancia:\n",
    "    * Utilizar métricas de similitud (Similitud Coseno y Jaccard) entre la representación vectorial de los documentos y las de las consultas.\n",
    "    * Calcular la puntuación de relevancia para cada documento del corpus respecto a cada consulta.\n",
    "\n",
    "4. Ranking de Documentos:\n",
    "    * Ordenar los documentos en función de su puntuación de relevancia de mayor a menor.\n",
    "    * Mostrar el ranking de documentos para cada consulta."
   ]
  },
  {
   "cell_type": "code",
   "execution_count": 1,
   "id": "658a8002d23a7c44",
   "metadata": {
    "ExecuteTime": {
     "end_time": "2024-11-05T03:17:29.236080Z",
     "start_time": "2024-11-05T03:17:29.201915Z"
    },
    "tags": []
   },
   "outputs": [],
   "source": [
    "import xml.etree.ElementTree as ET\n",
    "import numpy as np\n",
    "import re\n",
    "from collections import Counter"
   ]
  },
  {
   "cell_type": "code",
   "execution_count": null,
   "id": "b8f99c9907e6568e",
   "metadata": {},
   "outputs": [],
   "source": [
    "# Cargar y parsear el archivo XML\n",
    "tree = ET.parse('/kaggle/input/03ranking-corpus/03ranking_corpus.xml')\n",
    "root = tree.getroot()\n",
    "\n",
    "# Crear una lista para almacenar los documentos con sus metadatos\n",
    "documents = []\n",
    "\n",
    "# Iterar a través de cada elemento 'document' en el archivo XML\n",
    "for doc in root.findall('document'):\n",
    "    doc_id = doc.get('id')\n",
    "    title = doc.find('title').text\n",
    "    keywords = doc.find('keywords').text\n",
    "    author = doc.find('author').text\n",
    "    date = doc.find('date').text\n",
    "    \n",
    "    documents.append({\n",
    "        'id': doc_id,\n",
    "        'title': title,\n",
    "        'keywords': keywords,\n",
    "        'author': author,\n",
    "        'date': date\n",
    "    })"
   ]
  },
  {
   "cell_type": "code",
   "execution_count": null,
   "id": "4b71c985-f44a-43e4-851c-2ff9c473e464",
   "metadata": {},
   "outputs": [],
   "source": [
    "# Mostrar el resultado\n",
    "for document in documents:\n",
    "    print(f\"ID: {document['id']}\")\n",
    "    print(f\"Title: {document['title']}\")\n",
    "    print(f\"Keywords: {document['keywords']}\")\n",
    "    print(f\"Author: {document['author']}\")\n",
    "    print(f\"Date: {document['date']}\")\n",
    "    print(\"-\" * 40)"
   ]
  },
  {
   "cell_type": "markdown",
   "id": "0a5b564c-1f8f-4922-b1e0-fac6c7d3ffd1",
   "metadata": {},
   "source": [
    "### Procesamiento de las Consultas:\n",
    "\n",
    "- Definir las consultas proporcionadas.\n",
    "- Extraer las palabras clave de cada consulta."
   ]
  },
  {
   "cell_type": "code",
   "execution_count": null,
   "id": "bc62a35d-2c2a-4a23-ad7e-42d5c625ca8a",
   "metadata": {},
   "outputs": [],
   "source": [
    "# Definir las consultas\n",
    "queries = {\n",
    "    1: \"Impacto de la salud mental en el rendimiento académico de los estudiantes universitarios\",\n",
    "    2: \"Actividades extracurriculares y bienestar emocional en el campus universitario\",\n",
    "    3: \"Estrategias universitarias para reducir el estrés en estudiantes\"\n",
    "}\n",
    "\n",
    "# Función para procesar el texto y extraer palabras clave\n",
    "def process_text(text):\n",
    "    # Convertir a minúsculas\n",
    "    text = text.lower()\n",
    "    # Reemplazar caracteres no alfanuméricos por espacios\n",
    "    import re\n",
    "    text = re.sub(r'[^a-záéíóúñü]+', ' ', text)\n",
    "    # Tokenizar y eliminar palabras vacías si es necesario\n",
    "    tokens = text.strip().split()\n",
    "    return set(tokens)"
   ]
  },
  {
   "cell_type": "code",
   "execution_count": null,
   "id": "cdf74f5b-717b-4b88-9e45-fff97f729912",
   "metadata": {},
   "outputs": [],
   "source": [
    "# Mostrar las palabras clave extraídas\n",
    "for query_id, query_text in queries.items():\n",
    "    # Procesar el texto de la consulta\n",
    "    keywords = process_text(query_text)\n",
    "    print(f\"Consulta {query_id}: {keywords}\")"
   ]
  },
  {
   "cell_type": "markdown",
   "id": "d49ed853-bf11-48ab-a5fe-b0a9b19243cf",
   "metadata": {},
   "source": [
    "### Cálculo de Relevancia:\n",
    "- Calcular la puntuación de relevancia para cada documento del corpus respecto a cada consulta.\n",
    "- Utilizar métricas de similitud (Similitud Coseno y Jaccard) entre la representación vectorial de los documentos y las de las consultas."
   ]
  },
  {
   "cell_type": "code",
   "execution_count": null,
   "id": "8ee05071-3126-49d1-99d7-53aba11ce385",
   "metadata": {},
   "outputs": [],
   "source": [
    "# Función de similitud coseno\n",
    "def cosine_similarity(query, doc):\n",
    "    query_tokens = process_text(query)\n",
    "    doc_tokens = process_text(doc)\n",
    "\n",
    "    # Crear el vocabulario (todas las palabras únicas en la consulta y el documento)\n",
    "    vocabulary = list(query_tokens | doc_tokens)  # Unión de los conjuntos\n",
    "\n",
    "    # Crear los vectores de frecuencia (binarios)\n",
    "    query_vector = [1 if word in query_tokens else 0 for word in vocabulary]\n",
    "    doc_vector = [1 if word in doc_tokens else 0 for word in vocabulary]\n",
    "\n",
    "    # Calcular el producto punto y las normas\n",
    "    dot_product = np.dot(query_vector, doc_vector)\n",
    "    norm_query = np.linalg.norm(query_vector)\n",
    "    norm_doc = np.linalg.norm(doc_vector)\n",
    "\n",
    "    # Similitud coseno\n",
    "    if norm_query == 0 or norm_doc == 0:\n",
    "        return 0  # No hay similitud si uno de los vectores es cero\n",
    "    return dot_product / (norm_query * norm_doc)"
   ]
  },
  {
   "cell_type": "code",
   "execution_count": null,
   "id": "9ca1e038-8a74-41f0-b53c-be2dfb05ded2",
   "metadata": {},
   "outputs": [],
   "source": [
    "# Función de similitud de Jaccard\n",
    "def jaccard_similarity(query, doc):\n",
    "    query_tokens = process_text(query)\n",
    "    doc_tokens = process_text(doc)\n",
    "\n",
    "    # Intersección y unión de los conjuntos\n",
    "    intersection = query_tokens & doc_tokens\n",
    "    union = query_tokens | doc_tokens\n",
    "    return len(intersection) / len(union)"
   ]
  },
  {
   "cell_type": "code",
   "execution_count": null,
   "id": "7ebb9d89-3ec6-4b1d-bb95-7b715bd77c67",
   "metadata": {},
   "outputs": [],
   "source": [
    "# Calcular las puntuaciones de relevancia para cada documento respecto a cada consulta\n",
    "for query_id, query_text in queries.items():\n",
    "    print(f\"Consulta {query_id}: {query_text}\")\n",
    "    \n",
    "    for doc in documents:\n",
    "        doc_text = doc['title'] + ' ' + doc['keywords'] \n",
    "        cosine_score = cosine_similarity(query_text, doc_text) # Aplicamos el método para calcular la similaridad del coseno\n",
    "        jaccard_score = jaccard_similarity(query_text, doc_text) # Aplicamos el método para calcular la similaridad de Jaccard\n",
    "        \n",
    "        print(f\"  Documento {doc['id']}: {doc['title']}\")\n",
    "        print(f\"    Similitud Coseno: {cosine_score:.4f}\")\n",
    "        print(f\"    Similitud de Jaccard: {jaccard_score:.4f}\")\n",
    "    print(\"\\n\")"
   ]
  },
  {
   "cell_type": "markdown",
   "id": "ec31f499-7f15-4f50-935f-4a44139497a5",
   "metadata": {},
   "source": [
    "### Ranking de Documentos:\n",
    "\n",
    "- Ordenar los documentos en función de su puntuación de relevancia de mayor a menor.\n",
    "- Mostrar el ranking de documentos para cada consulta."
   ]
  },
  {
   "cell_type": "code",
   "execution_count": null,
   "id": "b233aad2-fcff-4c6c-869b-c396ac9f339e",
   "metadata": {},
   "outputs": [],
   "source": [
    "# Se define k para limitar el número de documentos en el ranking\n",
    "k = 7\n",
    "\n",
    "# Diccionario para almacenar los rankings de relevancia de cada consulta\n",
    "rankings = {}\n",
    "\n",
    "# Iterar sobre cada consulta para calcular las similitudes y generar el ranking\n",
    "for query_id, query_text in queries.items():\n",
    "    # Lista para almacenar los documentos con su puntuación de relevancia\n",
    "    relevance_scores = []\n",
    "\n",
    "    # Iterar sobre cada documento en el corpus\n",
    "    for doc in documents:\n",
    "        # Concatenar título y palabras clave para formar el contenido del documento\n",
    "        doc_text = doc['title'] + ' ' + doc['keywords']\n",
    "        \n",
    "        # Calcular la similitud coseno y jaccard utilizando los métodos ya definidos\n",
    "        cosine_score = cosine_similarity(query_text, doc_text)\n",
    "        jaccard_score = jaccard_similarity(query_text, doc_text)\n",
    "        \n",
    "        # Calculo de relevancia\n",
    "        relevance_score = (cosine_score + jaccard_score) / 2\n",
    "        \n",
    "        # Agregar el documento con su relevancia a la lista\n",
    "        relevance_scores.append({\n",
    "            'doc_id': doc['id'],\n",
    "            'title': doc['title'],\n",
    "            'cosine_score': cosine_score,\n",
    "            'jaccard_score': jaccard_score,\n",
    "            'relevance_score': relevance_score\n",
    "        })\n",
    "\n",
    "    # Ordenar los documentos por su puntuación de relevancia (de mayor a menor)\n",
    "    relevance_scores = sorted(relevance_scores, key=lambda x: x['relevance_score'], reverse=True)\n",
    "\n",
    "    # Almacenar solo los k documentos más relevantes para esta consulta\n",
    "    rankings[query_id] = relevance_scores[:k]"
   ]
  },
  {
   "cell_type": "code",
   "execution_count": null,
   "id": "90990dd0-2800-4233-a537-23cc925e2b51",
   "metadata": {},
   "outputs": [],
   "source": [
    "# Mostrar el ranking de documentos para cada consulta\n",
    "for query_id, ranked_docs in rankings.items():\n",
    "    print(f\"\\nRanking para la Consulta {query_id}: {queries[query_id]}\")\n",
    "    for rank, doc in enumerate(ranked_docs, start=1):\n",
    "        print(f\"  {rank}. Documento {doc['doc_id']}: {doc['title']}\")\n",
    "        print(f\"     Similitud Coseno: {doc['cosine_score']:.4f}\")\n",
    "        print(f\"     Similitud de Jaccard: {doc['jaccard_score']:.4f}\")\n",
    "        print(f\"     Puntuación de Relevancia Total: {doc['relevance_score']:.4f}\")"
   ]
  }
 ],
 "metadata": {
  "kernelspec": {
   "display_name": "Python 3 (ipykernel)",
   "language": "python",
   "name": "python3"
  },
  "language_info": {
   "codemirror_mode": {
    "name": "ipython",
    "version": 3
   },
   "file_extension": ".py",
   "mimetype": "text/x-python",
   "name": "python",
   "nbconvert_exporter": "python",
   "pygments_lexer": "ipython3",
   "version": "3.11.5"
  }
 },
 "nbformat": 4,
 "nbformat_minor": 5
}
